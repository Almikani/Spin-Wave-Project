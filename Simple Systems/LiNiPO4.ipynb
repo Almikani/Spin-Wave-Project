{
 "cells": [
  {
   "cell_type": "markdown",
   "id": "8a9ca583",
   "metadata": {},
   "source": [
    "# $\\text{LiNiPO}_4$ System\n",
    "\n",
    "Adapted from: https://sunnysuite.github.io/Sunny.jl/stable/examples/spinw/SW13_LiNiPO4.html"
   ]
  },
  {
   "cell_type": "markdown",
   "id": "3fd49f24",
   "metadata": {},
   "source": [
    "### Crystal Cell"
   ]
  },
  {
   "cell_type": "code",
   "execution_count": 34,
   "id": "83e8d0ac",
   "metadata": {},
   "outputs": [],
   "source": [
    "using Sunny, GLMakie\n",
    "\n",
    "units = Units(:meV, :angstrom);"
   ]
  },
  {
   "cell_type": "markdown",
   "id": "fc972d6b",
   "metadata": {},
   "source": [
    "The unit cell has the following lattice vectors\n",
    "\n",
    "\n",
    "|     |  a [Å]  |  b [Å]  |  c [Å]  |\n",
    "| --- | --- | --- | --- |\n",
    "| LiNiPO4 | 10.02 | 5.86 | 4.68 | "
   ]
  },
  {
   "cell_type": "code",
   "execution_count": 35,
   "id": "7c95a687",
   "metadata": {},
   "outputs": [
    {
     "data": {
      "text/plain": [
       "3×3 StaticArraysCore.SMatrix{3, 3, Float64, 9} with indices SOneTo(3)×SOneTo(3):\n",
       " 10.02  0.0   0.0\n",
       "  0.0   5.86  0.0\n",
       "  0.0   0.0   4.68"
      ]
     },
     "metadata": {},
     "output_type": "display_data"
    }
   ],
   "source": [
    "latvecs = lattice_vectors(10.02, 5.86, 4.68, 90, 90, 90)"
   ]
  },
  {
   "cell_type": "code",
   "execution_count": 36,
   "id": "b70abd26",
   "metadata": {},
   "outputs": [
    {
     "data": {
      "text/plain": [
       "\u001b[4m\u001b[1mCrystal\u001b[22m\u001b[24m\n",
       "Spacegroup 'P n m a' (62)\n",
       "Lattice params a=10.02, b=5.86, c=4.68, α=90°, β=90°, γ=90°\n",
       "Cell volume 274.8\n",
       "Type 'Ni', Wyckoff 4c (site sym. '.m.'):\n",
       "   1. [1/4, 1/4, 0]\n",
       "   2. [3/4, 3/4, 0]\n",
       "   3. [3/4, 1/4, 1/2]\n",
       "   4. [1/4, 3/4, 1/2]\n"
      ]
     },
     "metadata": {},
     "output_type": "display_data"
    }
   ],
   "source": [
    "cryst = Crystal(latvecs, [[1/4, 1/4, 0]], 62, types = [\"Ni\"])\n",
    "# QUESTION: Spacegroup 62?"
   ]
  },
  {
   "cell_type": "code",
   "execution_count": 37,
   "id": "ac43f488",
   "metadata": {},
   "outputs": [],
   "source": [
    "view_crystal(cryst)"
   ]
  },
  {
   "cell_type": "markdown",
   "id": "8eeb2caa",
   "metadata": {},
   "source": [
    "### Spin System"
   ]
  },
  {
   "cell_type": "code",
   "execution_count": 38,
   "id": "5f9ecd3c",
   "metadata": {},
   "outputs": [
    {
     "data": {
      "text/plain": [
       "\u001b[4m\u001b[1mSystem [Dipole mode, large-s]\u001b[22m\u001b[24m\n",
       "Supercell (1×1×1)×4\n",
       "Energy per site 0\n"
      ]
     },
     "metadata": {},
     "output_type": "display_data"
    }
   ],
   "source": [
    "sys = System(cryst, [1 => Moment(s=1, g=2)], :dipole_uncorrected)\n",
    "# QUESTION: Why dipole_uncorrected?\n",
    "# ANSWER: \"The mode :dipole_uncorrected avoids a classical-to-quantum rescaling factor \n",
    "# of anisotropy strengths, as needed for consistency with the original fits [of the data]."
   ]
  },
  {
   "cell_type": "markdown",
   "id": "132a5647",
   "metadata": {},
   "source": [
    "The interaction interaction energies need to be set"
   ]
  },
  {
   "cell_type": "code",
   "execution_count": 39,
   "id": "aace1eb6",
   "metadata": {},
   "outputs": [],
   "source": [
    "Jbc =  1.036\n",
    "Jb  =  0.6701\n",
    "Jc  = -0.0469\n",
    "Jac = -0.1121\n",
    "Jab =  0.2977\n",
    "Da  =  0.1969\n",
    "Db  =  0.9097\n",
    "Dc  =  0.0\n",
    "set_exchange!(sys, Jbc, Bond(2, 3, [0, 0, 0]))\n",
    "set_exchange!(sys, Jc , Bond(1, 1, [0, 0,-1]))\n",
    "set_exchange!(sys, Jb , Bond(1, 1, [0, 1, 0]))\n",
    "set_exchange!(sys, Jab, Bond(1, 2, [0, 0, 0]))\n",
    "set_exchange!(sys, Jab, Bond(3, 4, [0, 0, 0]))\n",
    "set_exchange!(sys, Jac, Bond(3, 1, [0, 0, 0]))\n",
    "set_exchange!(sys, Jac, Bond(4, 2, [0, 0, 0]))\n",
    "set_onsite_coupling!(sys, S -> Da*S[1]^2 + Db*S[2]^2 + Dc*S[3]^2, 1)\n",
    "\n",
    "# QUESTION: What about the missing 3 interactions?"
   ]
  },
  {
   "cell_type": "code",
   "execution_count": 40,
   "id": "ed647c3b",
   "metadata": {},
   "outputs": [],
   "source": [
    "view_crystal(sys)"
   ]
  },
  {
   "cell_type": "markdown",
   "id": "1a7615f7",
   "metadata": {},
   "source": [
    "### Optimizing spins\n",
    "We can now minimize the energy"
   ]
  },
  {
   "cell_type": "code",
   "execution_count": 41,
   "id": "f584ab63",
   "metadata": {},
   "outputs": [
    {
     "data": {
      "text/plain": [
       "-2.2683999999999997"
      ]
     },
     "metadata": {},
     "output_type": "display_data"
    }
   ],
   "source": [
    "randomize_spins!(sys)\n",
    "minimize_energy!(sys)\n",
    "energy_per_site(sys)"
   ]
  },
  {
   "cell_type": "markdown",
   "id": "72d6baef",
   "metadata": {},
   "source": [
    "... and plot the spins in the ground state found above"
   ]
  },
  {
   "cell_type": "code",
   "execution_count": 42,
   "id": "50cbcedd",
   "metadata": {},
   "outputs": [],
   "source": [
    "plot_spins(sys; color=[S[3] for S in sys.dipoles])"
   ]
  },
  {
   "cell_type": "markdown",
   "id": "74d86957",
   "metadata": {},
   "source": [
    "### Spin wave theory"
   ]
  },
  {
   "cell_type": "code",
   "execution_count": 43,
   "id": "d0e3409d",
   "metadata": {},
   "outputs": [
    {
     "data": {
      "text/plain": [
       "\u001b[4m\u001b[1mSpinWaveTheory [Dipole mode, large-s]\u001b[22m\u001b[24m\n",
       "  4 atoms\n"
      ]
     },
     "metadata": {},
     "output_type": "display_data"
    }
   ],
   "source": [
    "swt = SpinWaveTheory(sys; measure=ssf_perp(sys))"
   ]
  },
  {
   "cell_type": "markdown",
   "id": "c0c2e661",
   "metadata": {},
   "source": [
    "We define a path connecting high symmetry points in the reciprocal lattice. 600 points are sampled along this path"
   ]
  },
  {
   "cell_type": "code",
   "execution_count": 44,
   "id": "290514d1",
   "metadata": {},
   "outputs": [
    {
     "data": {
      "text/plain": [
       "3-element Vector{Sunny.QPath}:\n",
       " Sunny.QPath (600 samples)\n",
       " Sunny.QPath (600 samples)\n",
       " Sunny.QPath (600 samples)"
      ]
     },
     "metadata": {},
     "output_type": "display_data"
    }
   ],
   "source": [
    "qpaths = [\n",
    "\tq_space_path(cryst, [[ 0,1,0], [2,1,0]], 600),\n",
    "\tq_space_path(cryst, [[ 0,0,0], [0,2,0]], 600),\n",
    "\tq_space_path(cryst, [[ 0,1,0], [0,1,2]], 600),\n",
    "]"
   ]
  },
  {
   "cell_type": "markdown",
   "id": "1fc71ead",
   "metadata": {},
   "source": [
    "The intensities can now be found and shown (compare to Jensen et al.)"
   ]
  },
  {
   "cell_type": "code",
   "execution_count": 45,
   "id": "943b2a58",
   "metadata": {},
   "outputs": [],
   "source": [
    "res = [intensities_bands(swt, qpath, kT=2) for qpath in qpaths]\n",
    "# Actual measurement temperatures in Jensen et al. (2, 2, 10) K\n",
    "\n",
    "fig = Figure(size=(1600, 500))\n",
    "\n",
    "for i in 1:3\n",
    "\tax = plot_intensities!(fig[1, i], res[i]; units, title=\"LiNiPO₄ LSWT\")\n",
    "end\n",
    "fig"
   ]
  },
  {
   "cell_type": "code",
   "execution_count": 46,
   "id": "57c5a3fc",
   "metadata": {},
   "outputs": [],
   "source": []
  }
 ],
 "metadata": {
  "kernelspec": {
   "display_name": "Julia 1.11.6",
   "language": "julia",
   "name": "julia-1.11"
  },
  "language_info": {
   "file_extension": ".jl",
   "mimetype": "application/julia",
   "name": "julia",
   "version": "1.11.6"
  }
 },
 "nbformat": 4,
 "nbformat_minor": 5
}
