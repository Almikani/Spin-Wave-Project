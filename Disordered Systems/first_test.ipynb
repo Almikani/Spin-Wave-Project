{
 "cells": [
  {
   "cell_type": "code",
   "execution_count": 8,
   "id": "ad0ead5d",
   "metadata": {},
   "outputs": [],
   "source": [
    "using Sunny, GLMakie\n",
    "\n",
    "units = Units(:meV, :angstrom);"
   ]
  },
  {
   "cell_type": "code",
   "execution_count": 10,
   "id": "5e1f2c97",
   "metadata": {},
   "outputs": [
    {
     "data": {
      "text/plain": [
       "3×3 StaticArraysCore.SMatrix{3, 3, Float64, 9} with indices SOneTo(3)×SOneTo(3):\n",
       " 10.337  0.0    0.0\n",
       "  0.0    6.011  0.0\n",
       "  0.0    0.0    4.695"
      ]
     },
     "metadata": {},
     "output_type": "display_data"
    }
   ],
   "source": [
    "latvecs = Dict()\n",
    "latvecs[\"Ni\"] = lattice_vectors(10.02, 5.86, 4.68, 90, 90, 90)\n",
    "latvecs[\"Fe\"] = lattice_vectors(10.337, 6.011, 4.695, 90, 90, 90)"
   ]
  },
  {
   "cell_type": "markdown",
   "id": "16227853",
   "metadata": {},
   "source": [
    "We continue from here with the Ni system"
   ]
  },
  {
   "cell_type": "code",
   "execution_count": 11,
   "id": "5a88cd8c",
   "metadata": {},
   "outputs": [
    {
     "data": {
      "text/plain": [
       "\u001b[4m\u001b[1mSystem [Dipole mode, large-s]\u001b[22m\u001b[24m\n",
       "Supercell (1×1×1)×4\n",
       "Energy per site 0\n"
      ]
     },
     "metadata": {},
     "output_type": "display_data"
    }
   ],
   "source": [
    "cryst = Crystal(latvecs[\"Ni\"], [[1/4, 1/4, 0]], 62, types = [\"Ni\"])\n",
    "sys = System(cryst, [1 => Moment(s=1, g=2)], :dipole_uncorrected)"
   ]
  },
  {
   "cell_type": "code",
   "execution_count": null,
   "id": "45193f65",
   "metadata": {},
   "outputs": [],
   "source": [
    "Jbc =  1.036\n",
    "Jb  =  0.6701\n",
    "Jc  = -0.0469\n",
    "Jac = -0.1121\n",
    "Jab =  0.2977\n",
    "Da  =  0.1969\n",
    "Db  =  0.9097\n",
    "Dc  =  0.0\n",
    "set_exchange!(sys, Jbc, Bond(2, 3, [0, 0, 0]))\n",
    "set_exchange!(sys, Jc , Bond(1, 1, [0, 0,-1]))\n",
    "set_exchange!(sys, Jb , Bond(1, 1, [0, 1, 0]))\n",
    "set_exchange!(sys, Jab, Bond(1, 2, [0, 0, 0]))\n",
    "set_exchange!(sys, Jab, Bond(3, 4, [0, 0, 0]))\n",
    "set_exchange!(sys, Jac, Bond(3, 1, [0, 0, 0]))\n",
    "set_exchange!(sys, Jac, Bond(4, 2, [0, 0, 0]))\n",
    "set_onsite_coupling!(sys, S -> Da*S[1]^2 + Db*S[2]^2 + Dc*S[3]^2, 1)"
   ]
  },
  {
   "cell_type": "code",
   "execution_count": 19,
   "id": "b5a401f7",
   "metadata": {},
   "outputs": [],
   "source": [
    "randomize_spins!(sys)\n",
    "minimize_energy!(sys)\n",
    "plot_spins(sys; color=[S[3] for S in sys.dipoles])"
   ]
  },
  {
   "cell_type": "code",
   "execution_count": 35,
   "id": "66ad9aac",
   "metadata": {},
   "outputs": [
    {
     "data": {
      "text/plain": [
       "\u001b[4m\u001b[1mQPath (600 samples)\u001b[22m\u001b[24m\n",
       "  a → b\n"
      ]
     },
     "metadata": {},
     "output_type": "display_data"
    }
   ],
   "source": [
    "qs = [[ 0,0,0], [0,2,0]]\n",
    "labels = [\"a\", \"b\"]  # TODO: Might not be correct labels!\n",
    "path = q_space_path(cryst, qs, 600; labels)"
   ]
  },
  {
   "cell_type": "code",
   "execution_count": 37,
   "id": "4906f102",
   "metadata": {},
   "outputs": [],
   "source": [
    "kernel = lorentzian(fwhm=0.4)\n",
    "energies = range(0.0, 12.0, 150)\n",
    "swt = SpinWaveTheory(sys; measure=ssf_perp(sys))\n",
    "res = intensities(swt, path; energies, kernel)\n",
    "plot_intensities(res)"
   ]
  },
  {
   "cell_type": "markdown",
   "id": "44ea63d1",
   "metadata": {},
   "source": [
    "## 2: Inhomogenous system"
   ]
  },
  {
   "cell_type": "code",
   "execution_count": null,
   "id": "2bb86e06",
   "metadata": {},
   "outputs": [
    {
     "data": {
      "text/plain": [
       "\u001b[4m\u001b[1mSystem [Dipole mode, large-s]\u001b[22m\u001b[24m\n",
       "Supercell (10×10×10)×4\n",
       "Energy per site -2.268\n"
      ]
     },
     "metadata": {},
     "output_type": "display_data"
    }
   ],
   "source": [
    "sys_inhom = to_inhomogeneous(repeat_periodically(sys, (4, 4, 4))) # TODO: change to 10 10 10"
   ]
  },
  {
   "cell_type": "code",
   "execution_count": 47,
   "id": "d5f5c1e6",
   "metadata": {},
   "outputs": [
    {
     "name": "stderr",
     "output_type": "stream",
     "text": [
      "┌ Warning: Non-converged after 5000 iterations: |ΔE|=1.8e-12, |Δx|=2e-07, |∂E/∂x|=5.5e-07\n",
      "└ @ Sunny C:\\Users\\45267\\.julia\\packages\\Sunny\\NXlhu\\src\\Optimization.jl:156\n"
     ]
    }
   ],
   "source": [
    "for (site1, site2, offset) in symmetry_equivalent_bonds(sys_inhom, Bond(1, 1, [1, 0, 0]))\n",
    "\tnoise = 0.0\n",
    "\tset_exchange_at!(sys_inhom, 1.0 + noise, site1, site2; offset)\n",
    "end\n",
    "\n",
    "randomize_spins!(sys_inhom)\n",
    "minimize_energy!(sys_inhom, maxiters=5_000)\n",
    "plot_spins(sys_inhom; color=[S[3] for S in sys_inhom.dipoles], ndims=3)"
   ]
  },
  {
   "cell_type": "code",
   "execution_count": null,
   "id": "dc29b345",
   "metadata": {},
   "outputs": [],
   "source": [
    "swt = SpinWaveTheoryKPM(sys_inhom; measure=ssf_perp(sys_inhom), tol=0.05)\n",
    "res = intensities(swt, path; energies, kernel)\n",
    "plot_intensities(res)"
   ]
  },
  {
   "cell_type": "code",
   "execution_count": null,
   "id": "265bbac8",
   "metadata": {},
   "outputs": [],
   "source": []
  }
 ],
 "metadata": {
  "kernelspec": {
   "display_name": "Julia 1.11.6",
   "language": "julia",
   "name": "julia-1.11"
  },
  "language_info": {
   "file_extension": ".jl",
   "mimetype": "application/julia",
   "name": "julia",
   "version": "1.11.6"
  }
 },
 "nbformat": 4,
 "nbformat_minor": 5
}
